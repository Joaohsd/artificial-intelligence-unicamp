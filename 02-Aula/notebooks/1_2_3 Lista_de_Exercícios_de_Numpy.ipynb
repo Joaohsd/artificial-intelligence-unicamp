{
  "cells": [
    {
      "cell_type": "markdown",
      "metadata": {
        "id": "F8d0lbwpoJT1"
      },
      "source": [
        "# **Numpy**"
      ]
    },
    {
      "cell_type": "code",
      "execution_count": 1,
      "metadata": {
        "id": "muMaQHaDuqAp"
      },
      "outputs": [],
      "source": [
        "import numpy as np"
      ]
    },
    {
      "cell_type": "markdown",
      "metadata": {
        "id": "4BjJmVploNCh"
      },
      "source": [
        "Essa lista contém questões práticas incluindo os seguintes tópicos com numpy.\n",
        "\n",
        "* Criação de array e seus atributos, intervalos numéricos em numPy\n",
        "* Slicing e indexação de NumPy Array.\n",
        "* Manipulação, pesquisa, classificação e divisão de arrays.\n",
        "* Funções matemáticas com arrays e broadcasting arrays NumPy. "
      ]
    },
    {
      "cell_type": "markdown",
      "metadata": {
        "id": "mMd7TMhpo3Sh"
      },
      "source": [
        "## **Crie um array inteiro 4x2 e mostre seus atributos**\n",
        "\n",
        "Os elementos deven ser um tipo de int16 sem sinal. E imprima os seguintes atributos: formato do array; dimensões; comprimento de cada elemento do array."
      ]
    },
    {
      "cell_type": "code",
      "execution_count": 4,
      "metadata": {
        "id": "fUXqn29poD1_"
      },
      "outputs": [
        {
          "name": "stdout",
          "output_type": "stream",
          "text": [
            "Mostrando o array:\n",
            "[[64392 31655]\n",
            " [32579     0]\n",
            " [49248   462]\n",
            " [    0     0]]\n",
            "Mostrando os atributos:\n",
            "Formato do array: (4, 2)\n",
            "Número de dimensões: 2\n",
            "Comprimento de cada elemento do array: 2\n"
          ]
        }
      ],
      "source": [
        "#########################################\n",
        "arr = np.array([\n",
        "    [64392, 31655],\n",
        "    [32579, 0],\n",
        "    [49248, 462],\n",
        "    [0, 0]\n",
        "], dtype=np.uint16)\n",
        "\n",
        "print('Mostrando o array:')\n",
        "print(arr)\n",
        "print('Mostrando os atributos:')\n",
        "print('Formato do array:',arr.shape)\n",
        "print('Número de dimensões:',arr.ndim)\n",
        "print('Comprimento de cada elemento do array:',arr.itemsize)\n",
        "#########################################"
      ]
    },
    {
      "cell_type": "markdown",
      "metadata": {
        "id": "2vGPwePopaqA"
      },
      "source": [
        "##### Resultado esperado:\n",
        "<pre>\n",
        "Mostrando Array\n",
        "[[64392 31655]\n",
        " [32579     0]\n",
        " [49248   462]\n",
        " [    0     0]]\n",
        "\n",
        "Mostrando Attributos:\n",
        "\n",
        "Formato do array:  (4, 2)\n",
        "Número de dimensões:  2\n",
        "Comprimento de cada elemento do array:  2\n",
        "</pre>"
      ]
    },
    {
      "cell_type": "markdown",
      "metadata": {
        "id": "txYG24Btqofr"
      },
      "source": [
        "## **Crie uma array de inteiros 5X2 com um intervalo entre 100 e 200, de modo que a diferença entre cada elemento seja 10**"
      ]
    },
    {
      "cell_type": "code",
      "execution_count": 12,
      "metadata": {
        "id": "b-6r5wkgp7UX"
      },
      "outputs": [
        {
          "name": "stdout",
          "output_type": "stream",
          "text": [
            "[[100 110]\n",
            " [120 130]\n",
            " [140 150]\n",
            " [160 170]\n",
            " [180 190]]\n"
          ]
        }
      ],
      "source": [
        "#########################################\n",
        "arr = np.arange(start=100, stop=200, step=10).reshape((5,2))\n",
        "print(arr)\n",
        "#########################################"
      ]
    },
    {
      "cell_type": "markdown",
      "metadata": {
        "id": "7K18_nlXq0ci"
      },
      "source": [
        "##### Resultado esperado:\n",
        "<pre>\n",
        "[[100 110]\n",
        " [120 130]\n",
        " [140 150]\n",
        " [160 170]\n",
        " [180 190]]\n",
        "</pre>"
      ]
    },
    {
      "cell_type": "markdown",
      "metadata": {
        "id": "m_C2-vWIuaR7"
      },
      "source": [
        "## **Baseado no array fornecido. Retorne um array de itens com a terceira coluna de todas as linhas**"
      ]
    },
    {
      "cell_type": "code",
      "execution_count": 13,
      "metadata": {
        "id": "AL2jtmzfq7T3"
      },
      "outputs": [],
      "source": [
        "array_00 = np.array([[11 ,22, 33], [44, 55, 66], [77, 88, 99]])"
      ]
    },
    {
      "cell_type": "code",
      "execution_count": 16,
      "metadata": {
        "id": "JjZM3S46uyrX"
      },
      "outputs": [
        {
          "name": "stdout",
          "output_type": "stream",
          "text": [
            "Mostrando array de entrada:\n",
            "[[11 22 33]\n",
            " [44 55 66]\n",
            " [77 88 99]]\n",
            "Novo array com a terceira coluna de cada linha:\n",
            "[33 66 99]\n"
          ]
        }
      ],
      "source": [
        "#########################################\n",
        "arr = array_00[:,2]\n",
        "\n",
        "print('Mostrando array de entrada:')\n",
        "print(array_00)\n",
        "print('Novo array com a terceira coluna de cada linha:')\n",
        "print(arr)\n",
        "#########################################"
      ]
    },
    {
      "cell_type": "markdown",
      "metadata": {
        "id": "L6CkwyBRuzRE"
      },
      "source": [
        "##### Resultado esperado:\n",
        "<pre>\n",
        "Mostrando array de entrada\n",
        "[[11 22 33]\n",
        " [44 55 66]\n",
        " [77 88 99]]\n",
        "\n",
        "Novo array com a terceira coluna de cada linha\n",
        "[33 66 99]\n",
        "</pre>"
      ]
    },
    {
      "cell_type": "markdown",
      "metadata": {
        "id": "x74A04QBvHI4"
      },
      "source": [
        "## **Retorne um array com os valores presentes nas linhas ímpares com colunas pares baseado no seguinte array**"
      ]
    },
    {
      "cell_type": "code",
      "execution_count": 18,
      "metadata": {
        "id": "iePh-tw4vCnp"
      },
      "outputs": [],
      "source": [
        "array_01 = np.array([[3 ,6, 9, 12], [15 ,18, 21, 24], \n",
        "[27 ,30, 33, 36], [39 ,42, 45, 48], [51 ,54, 57, 60]])"
      ]
    },
    {
      "cell_type": "code",
      "execution_count": 22,
      "metadata": {
        "id": "zCzutzu5w0dt"
      },
      "outputs": [
        {
          "name": "stdout",
          "output_type": "stream",
          "text": [
            "Mostrano array de entrada:\n",
            "[[ 3  6  9 12]\n",
            " [15 18 21 24]\n",
            " [27 30 33 36]\n",
            " [39 42 45 48]\n",
            " [51 54 57 60]]\n",
            "Array resultante (linha ímpar x coluna par):\n",
            "[[15 21]\n",
            " [39 45]]\n"
          ]
        }
      ],
      "source": [
        "#########################################\n",
        "arr = array_01[1::2,0::2]\n",
        "print('Mostrano array de entrada:')\n",
        "print(array_01)\n",
        "print('Array resultante (linha ímpar x coluna par):')\n",
        "print(arr)\n",
        "#########################################"
      ]
    },
    {
      "cell_type": "markdown",
      "metadata": {
        "id": "M1hTKhUCvtZ0"
      },
      "source": [
        "##### Resultado esperado:\n",
        "<pre>\n",
        "Mostrando array de entrada\n",
        "[[ 3  6  9 12]\n",
        " [15 18 21 24]\n",
        " [27 30 33 36]\n",
        " [39 42 45 48]\n",
        " [51 54 57 60]]\n",
        "\n",
        "Array resultante (linha ímpar x coluna par)\n",
        "[[ 6 12]\n",
        " [30 36]\n",
        " [54 60]]\n",
        "</pre>"
      ]
    },
    {
      "cell_type": "markdown",
      "metadata": {
        "id": "BhK3jxRTwH50"
      },
      "source": [
        "## **Crie um array de resultado somando os seguintes arrays. Em seguida, modifique o array resultante calculando o quadrado de cada elemento**"
      ]
    },
    {
      "cell_type": "code",
      "execution_count": 24,
      "metadata": {
        "id": "uF173c_WwATR"
      },
      "outputs": [],
      "source": [
        "array_02 = np.array([[5, 6, 9], [21 ,18, 27]])\n",
        "array_03 = np.array([[15 ,33, 24], [4 ,7, 1]])"
      ]
    },
    {
      "cell_type": "code",
      "execution_count": 26,
      "metadata": {
        "id": "xBCCPW3vwz2c"
      },
      "outputs": [],
      "source": [
        "#########################################\n",
        "arr = array_02 + array_03\n",
        "arr = np.power(arr, 2)\n",
        "#########################################"
      ]
    },
    {
      "cell_type": "markdown",
      "metadata": {
        "id": "wYHTtPWVwj4C"
      },
      "source": [
        "##### Resultado esperado:\n",
        "<pre>\n",
        "A soma dos arrays é: \n",
        "[[20 39 33]\n",
        " [25 25 28]]\n",
        "\n",
        "Resultado depois de calcular o quadrado de cada número:\n",
        "[[ 400 1521 1089]\n",
        " [ 625  625  784]]\n",
        "</pre>"
      ]
    },
    {
      "cell_type": "markdown",
      "metadata": {
        "id": "ORLtJ-Z00XCk"
      },
      "source": [
        "## **Faça a soma, subtração, multiplicação e divisão dos arrays**"
      ]
    },
    {
      "cell_type": "code",
      "execution_count": 27,
      "metadata": {
        "id": "A8gdbosU0lzc"
      },
      "outputs": [],
      "source": [
        "array_04 = np.array([1, 2, 3])\n",
        "array_05 = np.array([[1, 2, 3], [4, 5, 6]])"
      ]
    },
    {
      "cell_type": "code",
      "execution_count": 28,
      "metadata": {
        "id": "eQBJ6AgN0_zb"
      },
      "outputs": [
        {
          "name": "stdout",
          "output_type": "stream",
          "text": [
            "Soma:\n",
            "[[2 4 6]\n",
            " [5 7 9]]\n",
            "Subtração:\n",
            "[[ 0  0  0]\n",
            " [-3 -3 -3]]\n",
            "Multiplicação:\n",
            "[[ 1  4  9]\n",
            " [ 4 10 18]]\n",
            "Divisão:\n",
            "[[1.   1.   1.  ]\n",
            " [0.25 0.4  0.5 ]]\n"
          ]
        }
      ],
      "source": [
        "#########################################\n",
        "soma = array_04 + array_05\n",
        "sub = array_04 - array_05\n",
        "mult = array_04 * array_05\n",
        "div = array_04 / array_05\n",
        "print('Soma:')\n",
        "print(soma)\n",
        "print('Subtração:')\n",
        "print(sub)\n",
        "print('Multiplicação:')\n",
        "print(mult)\n",
        "print('Divisão:')\n",
        "print(div)\n",
        "#########################################"
      ]
    },
    {
      "cell_type": "markdown",
      "metadata": {
        "id": "A_4X6IgK1CSc"
      },
      "source": [
        "##### Resultado esperado:\n",
        "<pre>\n",
        "Soma: \n",
        "[[2 4 6]\n",
        " [5 7 9]]\n",
        "Subtração: \n",
        "[[ 0  0  0]\n",
        " [-3 -3 -3]]\n",
        "Multiplicação: \n",
        "[[ 1  4  9]\n",
        " [ 4 10 18]]\n",
        "divisão: \n",
        "[[1.   1.   1.  ]\n",
        " [0.25 0.4  0.5 ]]\n",
        "</pre>"
      ]
    },
    {
      "cell_type": "markdown",
      "metadata": {
        "id": "FiMoxttBw-vA"
      },
      "source": [
        "## **Divida o array em quatro sub-arrays de tamanhos iguais**\n",
        "\n",
        "Crie um array de inteiros 8X3 com um intervalo entre 10 e 34 de modo que a diferença entre cada elemento seja 1 e, em seguida, faça a subdivisão. "
      ]
    },
    {
      "cell_type": "code",
      "execution_count": 35,
      "metadata": {
        "id": "A0Xvmeuswy90"
      },
      "outputs": [
        {
          "name": "stdout",
          "output_type": "stream",
          "text": [
            "Criando um array 8x3 com o arange:\n",
            "[[10 11 12]\n",
            " [13 14 15]\n",
            " [16 17 18]\n",
            " [19 20 21]\n",
            " [22 23 24]\n",
            " [25 26 27]\n",
            " [28 29 30]\n",
            " [31 32 33]]\n",
            "Dividindo o array em 4 subarrays:\n",
            "[array([[10, 11, 12],\n",
            "       [13, 14, 15]], dtype=uint32), array([[16, 17, 18],\n",
            "       [19, 20, 21]], dtype=uint32), array([[22, 23, 24],\n",
            "       [25, 26, 27]], dtype=uint32), array([[28, 29, 30],\n",
            "       [31, 32, 33]], dtype=uint32)]\n"
          ]
        }
      ],
      "source": [
        "#########################################\n",
        "arr = np.arange(start=10, stop=34, step=1).reshape((8,3)).astype(np.uint32)\n",
        "print('Criando um array 8x3 com o arange:')\n",
        "print(arr)\n",
        "sub_arrs = np.array_split(arr, 4)\n",
        "print('Dividindo o array em 4 subarrays:')\n",
        "print(sub_arrs)\n",
        "#########################################"
      ]
    },
    {
      "cell_type": "markdown",
      "metadata": {
        "id": "_8WGf4C6xaql"
      },
      "source": [
        "##### Resultado esperado:\n",
        "<pre>\n",
        "Criando o array de 8X3 usando numpy.arange\n",
        "[[10 11 12]\n",
        " [13 14 15]\n",
        " [16 17 18]\n",
        " [19 20 21]\n",
        " [22 23 24]\n",
        " [25 26 27]\n",
        " [28 29 30]\n",
        " [31 32 33]]\n",
        "\n",
        "Dividindo o array em 4 sub-arrays\n",
        "\n",
        "[array([[10, 11, 12],[13, 14, 15]]), \n",
        "array([[16, 17, 18],[19, 20, 21]]), \n",
        "array([[22, 23, 24],[25, 26, 27]]), \n",
        "array([[28, 29, 30],[31, 32, 33]])]\n",
        "</pre>"
      ]
    },
    {
      "cell_type": "markdown",
      "metadata": {
        "id": "4HwWOrIvx-RJ"
      },
      "source": [
        "## **Ordenar o seguinte array da seguinte forma:**\n",
        "\n",
        "* Oredene pela segunda linha\n",
        "* Ordene pela terceira coluna"
      ]
    },
    {
      "cell_type": "code",
      "execution_count": 47,
      "metadata": {
        "id": "MmbJJFF0xn-z"
      },
      "outputs": [],
      "source": [
        "import numpy as np\n",
        "array_06 = np.array([[34,43,73],[82,22,12],[53,94,66]])"
      ]
    },
    {
      "cell_type": "code",
      "execution_count": 48,
      "metadata": {
        "colab": {
          "base_uri": "https://localhost:8080/"
        },
        "id": "j7TBm7IEEfIV",
        "outputId": "98ea6938-412a-4a72-8386-b762139ef1a1"
      },
      "outputs": [
        {
          "data": {
            "text/plain": [
              "array([[34, 43, 73],\n",
              "       [82, 22, 12],\n",
              "       [53, 94, 66]])"
            ]
          },
          "execution_count": 48,
          "metadata": {},
          "output_type": "execute_result"
        }
      ],
      "source": [
        "array_06"
      ]
    },
    {
      "cell_type": "code",
      "execution_count": 55,
      "metadata": {
        "colab": {
          "base_uri": "https://localhost:8080/"
        },
        "id": "JfSD8msFyQ8c",
        "outputId": "fa989841-532a-491e-b1e4-712ae1f05524"
      },
      "outputs": [
        {
          "name": "stdout",
          "output_type": "stream",
          "text": [
            "Ordenando o array pela segunda linha:\n",
            "[[34 43 73]\n",
            " [12 22 82]\n",
            " [53 94 66]]\n",
            "Ordenando pela terceira coluna:\n",
            "[[34 43 12]\n",
            " [82 22 66]\n",
            " [53 94 73]]\n"
          ]
        }
      ],
      "source": [
        "arr = array_06.copy()\n",
        "arr[1, :].sort()\n",
        "print('Ordenando o array pela segunda linha:')\n",
        "print(arr)\n",
        "arr = array_06.copy()\n",
        "arr[:, 2].sort()\n",
        "print('Ordenando pela terceira coluna:')\n",
        "print(arr)"
      ]
    },
    {
      "cell_type": "markdown",
      "metadata": {
        "id": "CO8qvypPySoK"
      },
      "source": [
        "##### Resultado esperado:\n",
        "<pre>\n",
        "Mostrando o array original\n",
        "[[34 43 73]\n",
        " [82 22 12]\n",
        " [53 94 66]]\n",
        "\n",
        "Ordenando o array pela segunda linha\n",
        "[[73 43 34]\n",
        " [12 22 82]\n",
        " [66 94 53]]\n",
        "\n",
        "Ordenando o array pela terceira coluna\n",
        "[[82 22 12]\n",
        " [34 43 73]\n",
        " [53 94 66]]\n",
        "</pre>"
      ]
    },
    {
      "cell_type": "markdown",
      "metadata": {
        "id": "ISgsT6m0ypH6"
      },
      "source": [
        "## **Imprima o máx. do eixo 0 e mín. Do eixo 1 do seguinte array**"
      ]
    },
    {
      "cell_type": "code",
      "execution_count": 37,
      "metadata": {
        "id": "U_VF-l-bydjn"
      },
      "outputs": [],
      "source": [
        "array_07 = np.array([[34,43,73],[82,22,12],[53,94,66]])"
      ]
    },
    {
      "cell_type": "code",
      "execution_count": 45,
      "metadata": {
        "id": "uiWVrzR8y3_5"
      },
      "outputs": [
        {
          "name": "stdout",
          "output_type": "stream",
          "text": [
            "Max no eixo 0:\n",
            "[82 94 73]\n",
            "Min no eixo 1:\n",
            "[34 12 53]\n"
          ]
        }
      ],
      "source": [
        "#########################################\n",
        "print('Max no eixo 0:')\n",
        "print(np.max(array_07,axis=0))\n",
        "print('Min no eixo 1:')\n",
        "print(np.min(array_07,axis=1))\n",
        "#########################################"
      ]
    },
    {
      "cell_type": "markdown",
      "metadata": {
        "id": "_h-QzYNLy6Ki"
      },
      "source": [
        "##### Resultado esperado:\n",
        "<pre>\n",
        "Mostrando array original\n",
        "[[34 43 73]\n",
        " [82 22 12]\n",
        " [53 94 66]]\n",
        "\n",
        "Mostando amin do eixo 1\n",
        "[34 12 53]\n",
        "\n",
        "Mostrando amax do eixo 0\n",
        "[82 94 73]\n",
        "</pre>"
      ]
    },
    {
      "cell_type": "markdown",
      "metadata": {
        "id": "mSFScmJyzKh7"
      },
      "source": [
        "## **Exclua a segunda coluna de um determinado array e insira a nova coluna seguinte em seu lugar**"
      ]
    },
    {
      "cell_type": "code",
      "execution_count": 41,
      "metadata": {
        "id": "i47AbpNdzJmJ"
      },
      "outputs": [],
      "source": [
        "array_08    = np.array([[34,43,73],[82,22,12],[53,94,66]]) \n",
        "nova_coluna = np.array([[10,10,10]])"
      ]
    },
    {
      "cell_type": "code",
      "execution_count": 44,
      "metadata": {
        "id": "xUBbgLrmzZAL"
      },
      "outputs": [
        {
          "name": "stdout",
          "output_type": "stream",
          "text": [
            "Array Original:\n",
            "[[34 43 73]\n",
            " [82 22 12]\n",
            " [53 94 66]]\n",
            "Array sem a segunda coluna:\n",
            "[[34 73]\n",
            " [82 12]\n",
            " [53 66]]\n",
            "Array com a nova segunda coluna:\n",
            "[[34 10 73]\n",
            " [82 10 12]\n",
            " [53 10 66]]\n"
          ]
        }
      ],
      "source": [
        "#########################################\n",
        "print('Array Original:')\n",
        "print(array_08)\n",
        "arr = np.delete(array_08, 1, axis=1)\n",
        "print('Array sem a segunda coluna:')\n",
        "print(arr)\n",
        "print('Array com a nova segunda coluna:')\n",
        "arr = np.insert(arr, 1, nova_coluna, axis=1)\n",
        "print(arr)\n",
        "#########################################"
      ]
    },
    {
      "cell_type": "markdown",
      "metadata": {
        "id": "BWHYFrQnzcwx"
      },
      "source": [
        "##### Resultado esperado:\n",
        "<pre>\n",
        "Mostrando array original\n",
        "[[34 43 73]\n",
        " [82 22 12]\n",
        " [53 94 66]]\n",
        "\n",
        "Array depois de deletar a segunda coluna\n",
        "[[34 73]\n",
        " [82 12]\n",
        " [53 66]]\n",
        "\n",
        "Array depois de inserir a nova coluna no lugar da coluna excluída\n",
        "[[34 10 73]\n",
        " [82 10 12]\n",
        " [53 10 66]]\n",
        "</pre>"
      ]
    },
    {
      "cell_type": "code",
      "execution_count": null,
      "metadata": {
        "id": "FfLYDZkGzwfn"
      },
      "outputs": [],
      "source": []
    }
  ],
  "metadata": {
    "colab": {
      "provenance": []
    },
    "kernelspec": {
      "display_name": "Python 3",
      "name": "python3"
    },
    "language_info": {
      "codemirror_mode": {
        "name": "ipython",
        "version": 3
      },
      "file_extension": ".py",
      "mimetype": "text/x-python",
      "name": "python",
      "nbconvert_exporter": "python",
      "pygments_lexer": "ipython3",
      "version": "3.8.10"
    }
  },
  "nbformat": 4,
  "nbformat_minor": 0
}
