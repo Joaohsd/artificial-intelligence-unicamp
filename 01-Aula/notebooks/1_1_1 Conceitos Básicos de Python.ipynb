{
 "cells": [
  {
   "cell_type": "markdown",
   "metadata": {
    "id": "3jRncmx3jkPQ"
   },
   "source": [
    "# 1. Conceitos Básicos de Python\n",
    "\n",
    "O objetivo do hello world é apresentar o texto na tela para o usuários. Portanto, utilizaremos a função **print()**, a qual é método de saída.\n",
    "\n",
    "Neste exemplo, 'hello world' é uma string, ou seja, uma sequência de caracteres. Em Python, strings podem ser definidas usando tanto aspas simples ('') quanto aspas duplas (\"\"). Por exemplo:"
   ]
  },
  {
   "cell_type": "code",
   "execution_count": null,
   "metadata": {},
   "outputs": [],
   "source": [
    "print('Hello World')\n",
    "print(\"Hello World\")"
   ]
  },
  {
   "cell_type": "markdown",
   "metadata": {},
   "source": [
    "Note que ambos os comandos apresentaram as mesmas saídas"
   ]
  },
  {
   "cell_type": "markdown",
   "metadata": {},
   "source": [
    "## 1.1 Indentação\n",
    "\n",
    "Indentação é python é um requisito essencial e **deve ser respeitada**, pois ela quem determina os escopos das funções e variáveis no código. Além disso, caso ela não for respeitada corretamente, o código não será executado. De forma analoga, a identação tem o papel das chaves {} no código C "
   ]
  },
  {
   "cell_type": "code",
   "execution_count": null,
   "metadata": {},
   "outputs": [],
   "source": [
    "print('Hello World')\n",
    "    print(\"Hello World\")"
   ]
  },
  {
   "cell_type": "markdown",
   "metadata": {},
   "source": [
    "## 1.2 Comentários\n",
    "\n",
    "Comentários são muito importantes durante o desenvolvimento de códigos. Eles são usados pelos desenvolvedores para explicar o código.\n",
    "\n",
    "Em Python, usamos o símbolo hash (#) para iniciar um comentário. É importante destacar que o interpretador ignora comentários durante a execução. Podemos, utilizar comentários das seguintes formas:\n",
    "\n",
    "* \\# para comentar uma linha\n",
    "* ''' comentario ''' para comentar múltiplas linhas "
   ]
  },
  {
   "cell_type": "code",
   "execution_count": null,
   "metadata": {},
   "outputs": [],
   "source": [
    "print('Hello World') #este é um comentário"
   ]
  },
  {
   "cell_type": "code",
   "execution_count": null,
   "metadata": {},
   "outputs": [],
   "source": [
    "'''\n",
    "Este é um comentário\n",
    "com múltiplas linhas\n",
    "'''\n",
    "print('Hello World')"
   ]
  },
  {
   "cell_type": "markdown",
   "metadata": {},
   "source": [
    "Note que apenas o texto do comando print() foi apresentado"
   ]
  },
  {
   "cell_type": "markdown",
   "metadata": {},
   "source": [
    "## 1.3 Pacotes e módulos\n",
    "\n",
    "Python possui pacotes e módulos. Módulo é um arquivo que contém código em Python. Por outro lado, pacote é um diretório que contem múltiplos módulos.\n",
    "\n",
    "Para usar esses pacotes/módulos em Python utilizamos:\n",
    "* import\n",
    "* from pacote import modulo"
   ]
  },
  {
   "cell_type": "code",
   "execution_count": null,
   "metadata": {},
   "outputs": [],
   "source": [
    "import os #importa modulo \n",
    "os.getcwd() #retorna o diretório atual"
   ]
  },
  {
   "cell_type": "markdown",
   "metadata": {},
   "source": [
    "caso o pacote possua um nome muito grande ou complexo, podemos atribuir um alias (apelido) para refenciar durante a utilização. Por exemplo:"
   ]
  },
  {
   "cell_type": "code",
   "execution_count": null,
   "metadata": {},
   "outputs": [],
   "source": [
    "import platform\n",
    "platform.platform()"
   ]
  },
  {
   "cell_type": "code",
   "execution_count": null,
   "metadata": {},
   "outputs": [],
   "source": [
    "import platform as pf\n",
    "pf.platform()"
   ]
  },
  {
   "cell_type": "markdown",
   "metadata": {},
   "source": [
    "## 1.4 Variáveis\n",
    "\n",
    "Variáveis são utilizadas para armazenar valores, a qual é uma localização nomeada para armazenar valores na memória. Podemos declarar variáveis da seguinte forma:"
   ]
  },
  {
   "cell_type": "code",
   "execution_count": null,
   "metadata": {},
   "outputs": [],
   "source": [
    "a = 1\n",
    "print(a)"
   ]
  },
  {
   "cell_type": "markdown",
   "metadata": {},
   "source": [
    "O valor da variável pode ser alterado no código. Como python é fracamente tipado, essa mesma variável pode receber qualquer tipo: int, float, string, lista, dict, etc. Por exemplo:"
   ]
  },
  {
   "cell_type": "code",
   "execution_count": null,
   "metadata": {},
   "outputs": [],
   "source": [
    "a = 'esta variável agora é uma string'\n",
    "print(a)"
   ]
  },
  {
   "cell_type": "markdown",
   "metadata": {},
   "source": [
    "### 1.4.1 Regras para Nomes de Variáveis\n",
    "\n",
    "Os nomes das variáveis devem ter uma combinação de letras minúsculas (a à z) ou letras maiúsculas (A à Z) ou dígitos (0 à 9) ou underline (\\_). É importante destacar que as variáveis não podem iniciar com digitos"
   ]
  },
  {
   "cell_type": "code",
   "execution_count": null,
   "metadata": {},
   "outputs": [],
   "source": [
    "aZ9_ = 1\n",
    "print(aZ9_)"
   ]
  },
  {
   "cell_type": "markdown",
   "metadata": {},
   "source": [
    "devemos utilizar nomes que fazerm sentido para facilitar a leitura do código. Por exemplo:"
   ]
  },
  {
   "cell_type": "code",
   "execution_count": null,
   "metadata": {},
   "outputs": [],
   "source": [
    "asdeg = 100\n",
    "valor = 100"
   ]
  },
  {
   "cell_type": "markdown",
   "metadata": {},
   "source": [
    "no exemplo, não conseguimos identificar o que é **asdeg=100**, mas ao utilizar um nome que faça mais sentido, podemos entender que o **valor** de algo é 100"
   ]
  },
  {
   "cell_type": "markdown",
   "metadata": {},
   "source": [
    "Se quisermos criar nome de variável com espaço, devemos utilizar o underline (\\_) para separar as palavras. Não podemos utilizar traço (-)"
   ]
  },
  {
   "cell_type": "code",
   "execution_count": null,
   "metadata": {},
   "outputs": [],
   "source": [
    "nome_com_espaco = 'OK'\n",
    "nome_com_espaco"
   ]
  },
  {
   "cell_type": "code",
   "execution_count": null,
   "metadata": {},
   "outputs": [],
   "source": [
    "nome-com-traco = 'Não é Ok' #uso incorreto"
   ]
  },
  {
   "cell_type": "markdown",
   "metadata": {},
   "source": [
    "### 1.4.2 Palavras Chaves\n",
    "\n",
    "essas são palavras reservadas em Python que não podem ser usadas como nome de variáveis, pois são usadas como comandos para o interpretador"
   ]
  },
  {
   "cell_type": "code",
   "execution_count": null,
   "metadata": {},
   "outputs": [],
   "source": [
    "def = 1 #def é uma keyword portanto não podemos criar uma variável com esse nome"
   ]
  },
  {
   "cell_type": "code",
   "execution_count": null,
   "metadata": {},
   "outputs": [],
   "source": [
    "help('keywords')"
   ]
  },
  {
   "cell_type": "markdown",
   "metadata": {},
   "source": [
    "## 1.5 Entrada e Saída\n",
    "\n",
    "Para ler uma entrada fornecida pelo usuário, utilizamos o métodos input(). Por outro lado, como vimos anteriormente, para mostrar uma saída para o usuário utilizamos o método print(). Por exemplo:"
   ]
  },
  {
   "cell_type": "code",
   "execution_count": null,
   "metadata": {},
   "outputs": [],
   "source": [
    "a = input('Digite um valor: ')\n",
    "print(\"O valor digitado foi: \", a)"
   ]
  },
  {
   "cell_type": "markdown",
   "metadata": {},
   "source": [
    "## 1.6 Funções Básicas\n"
   ]
  },
  {
   "cell_type": "markdown",
   "metadata": {},
   "source": [
    "### 1.6.1 help()\n",
    "\n",
    "é usada para apresentar a documentação de módulos, funções, classes, etc para ajudar o desenvolvedor a entender como utilizar tal módulo"
   ]
  },
  {
   "cell_type": "code",
   "execution_count": null,
   "metadata": {},
   "outputs": [],
   "source": [
    "help(print)"
   ]
  },
  {
   "cell_type": "markdown",
   "metadata": {},
   "source": [
    "### 1.6.2 type()\n",
    "\n",
    "É utilizada para retornar o tipo de um objeto"
   ]
  },
  {
   "cell_type": "code",
   "execution_count": null,
   "metadata": {},
   "outputs": [],
   "source": [
    "a = 1\n",
    "b = 'hello world'\n",
    "\n",
    "print(type(a))\n",
    "print(type(b))"
   ]
  },
  {
   "cell_type": "markdown",
   "metadata": {},
   "source": [
    "### 1.6.3 del()\n",
    "\n",
    "É utilizada para apagar um objeto da memória"
   ]
  },
  {
   "cell_type": "code",
   "execution_count": null,
   "metadata": {},
   "outputs": [],
   "source": [
    "a = 10\n",
    "del(a)\n",
    "print(a)"
   ]
  },
  {
   "cell_type": "markdown",
   "metadata": {},
   "source": [
    "### 1.6.4 len()\n",
    "\n",
    "É utilizado para contar os elementos de uma coleção, incluindo caracteres de uma string, itens de uma lista, dicionário, array, etc."
   ]
  },
  {
   "cell_type": "code",
   "execution_count": null,
   "metadata": {},
   "outputs": [],
   "source": [
    "len('hello world')"
   ]
  }
 ],
 "metadata": {
  "colab": {
   "provenance": []
  },
  "kernelspec": {
   "display_name": "Python 3 (ipykernel)",
   "language": "python",
   "name": "python3"
  },
  "language_info": {
   "codemirror_mode": {
    "name": "ipython",
    "version": 3
   },
   "file_extension": ".py",
   "mimetype": "text/x-python",
   "name": "python",
   "nbconvert_exporter": "python",
   "pygments_lexer": "ipython3",
   "version": "3.8.10"
  }
 },
 "nbformat": 4,
 "nbformat_minor": 1
}
